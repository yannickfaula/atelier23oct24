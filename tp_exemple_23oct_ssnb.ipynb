{
 "cells": [
  {
   "cell_type": "markdown",
   "id": "d8e3d87a-a93e-40d9-bb8a-e1024d7c722a",
   "metadata": {},
   "source": [
    "# Les aventures de Toto face à son impact carbone: Comment choisir le transport le plus écologique ?\n",
    "\n",
    "<b>TP généré et adapté avec l'aide de ChatGPT d'OpenAI</b>"
   ]
  },
  {
   "cell_type": "markdown",
   "id": "40680dc9-929e-43d3-9afc-a2bf4f47bf57",
   "metadata": {},
   "source": [
    "### Toto souhaite se rendre sur le campus de la Doua depuis le nouveau quartier de Lyon la Confluence. \n",
    "\n",
    "<p style=\"font-size:2em\"> 🚃 🚇 🚲 🚗 🛹</p>\n"
   ]
  },
  {
   "cell_type": "markdown",
   "id": "9d7a4f65-4750-40db-abb8-303df1ea7f65",
   "metadata": {},
   "source": [
    "Toto a toujours pris sa voiture et ne souhaite pas trop changer son confort de déplacement. \n",
    "il a l'habitude des embouteillages mais se demande malgré tout s'il fait bien car il se rappelle des conseils de sa maman. \n",
    ">\"Mon chéri,\" lui disait-elle souvent, \"il faut parfois sortir de sa zone de confort pour découvrir de nouvelles façons de vivre. Peut-être qu'en essayant le vélo ou les transports en commun, tu trouveras une paix intérieure que tu ne soupçonnais pas.\"\n",
    "\n",
    "Alors Toto demande à une intelligence artificille générative quels sont les indicateurs à surveiller pour la pollution émise par un moyen de locomotion."
   ]
  },
  {
   "cell_type": "markdown",
   "id": "2616d4f5-ac27-467b-9843-84b9d2f16a4f",
   "metadata": {},
   "source": [
    "La réponse lui donne un choix entre les facteurs suivants.\n",
    "> Pour évaluer quels moyens de déplacement polluent le plus, il est important de considérer les indicateurs suivants :\n",
    "> 1. **Émissions de CO₂** : Quantité de dioxyde de carbone émise par unité de distance parcourue.\n",
    ">2. **Autres Gaz à Effet de Serre (GES)** : Émissions de méthane (CH₄) et d'oxyde nitreux (N₂O).\n",
    ">3. **Polluants Atmosphériques** : Émissions de NOₓ, SO₂, particules fines (PM2.5, PM10), et composés organiques volatils (COV).\n",
    ">4. **Consommation Énergétique** : Quantité d'énergie consommée par unité de distance parcourue.\n",
    ">5. **Efficacité Énergétique** : Rendement énergétique du moyen de transport.\n",
    ">6. **Impact sur la Qualité de l'Air** : Concentration de polluants dans l'air local.\n",
    ">7. **Bruit** : Niveau de bruit généré par le moyen de transport.\n",
    ">8. **Utilisation des Ressources** : Consommation de combustibles fossiles et autres ressources."
   ]
  },
  {
   "cell_type": "markdown",
   "id": "05813d2b-d5da-46c0-9fff-aaef49be633a",
   "metadata": {},
   "source": [
    "<div class=\"alert alert-block alert-info\"> \n",
    "    <em>Question 1</em><br>\n",
    "    ✍️  Selon vous quels est le facteur qui aura le plus d'impact et pourquoi ?\n",
    "</div>"
   ]
  },
  {
   "cell_type": "markdown",
   "id": "6c898d9e-e1c5-42f1-8ae8-4828ffd4fe4b",
   "metadata": {},
   "source": [
    "---"
   ]
  },
  {
   "cell_type": "markdown",
   "id": "6347d5ec-5bda-4ccd-b7a9-14d22f520bed",
   "metadata": {},
   "source": [
    "Toto décide de calculer sa consommation de carburant. \n",
    "Il roule avec de l'essence sans plomb 95 (SP95). "
   ]
  },
  {
   "cell_type": "markdown",
   "id": "4bb66a61-2054-4154-aaa6-8a680c8fa688",
   "metadata": {},
   "source": [
    "Pour calculer la quantité de $CO_2$ émise par un véhicule sur un trajet de 10 km, plusieurs données sont nécessaires. Voici les éléments dont il aura besoin :\n",
    "\n",
    "1. **Consommation de carburant du véhicule** :\n",
    "   - En **litres par 100 km** (L/100 km).\n",
    "\n",
    "2. **Facteur d'émission de $CO_2$ du carburant** :\n",
    "   - C'est la quantité de $CO_2$ émise par litre de carburant brûlé. Pour l'essence sans plomb (SP95), le facteur d'émission typique est d'environ **2,31 kg de $CO_2$ par litre**.\n",
    "\n",
    "3. **Distance parcourue** \n",
    "\n",
    "### Formule de calcul :\n",
    "\n",
    "$$\n",
    "\\text{Émission de } CO_2 \\text{ (kg)} = \\left( \\frac{\\text{Consommation (L/100 km)} \\times \\text{Distance (km)}}{100} \\right) \\times \\text{Facteur d'émission de } CO_2 \\text{ (kg/L)}\n",
    "$$"
   ]
  },
  {
   "cell_type": "markdown",
   "id": "41b6071f-0140-4e64-ba78-038b27694cc8",
   "metadata": {},
   "source": [
    "<div class=\"alert alert-block alert-info\"> \n",
    "    <em>Question 2</em><br>\n",
    "    ✍️  Calculer la quantité de CO2 rejeté (en kg) par le véhicule essence de Toto pour son trajet. \n",
    "</div>"
   ]
  },
  {
   "cell_type": "code",
   "execution_count": 1,
   "id": "d82033a3-fadc-4383-ba5c-fe35047d5cc0",
   "metadata": {
    "nbgrader": {
     "grade": false,
     "grade_id": "cell-b74f488b78458d3de",
     "locked": true,
     "schema_version": 3,
     "solution": false,
     "task": false
    }
   },
   "outputs": [],
   "source": [
    "# Données \n",
    "DIST_CONFL_DOUA = 10 # en km\n",
    "consom_lp100 = 6.0\n",
    "FACT_EM_CO2_SP95 = 2.31"
   ]
  },
  {
   "cell_type": "markdown",
   "id": "c5fdebb8-2275-42f4-9de1-e421c721f9c6",
   "metadata": {},
   "source": [
    "### 🤔 Mais Toto se demande d'où vient le facteur d'émission de $CO_2$ ?"
   ]
  },
  {
   "cell_type": "markdown",
   "id": "40971184-2d9f-40bd-b981-af47f5748a40",
   "metadata": {},
   "source": [
    "La combustion de l'essence sans plomb 95 (SP95), qui est principalement composée d'hydrocarbures comme l'octane ($C_8H_{18}$), peut être représentée par l'équation chimique suivante :\n",
    "\n",
    "$$\n",
    "2C_8H_{18} + 25O_2 \\longrightarrow 16CO_2 + 18H_2O\n",
    "$$\n",
    "\n",
    "**Explication :**\n",
    "- $C_8H_{18}$ représente l'octane, un composant majeur de l'essence.\n",
    "- $O_2$ est le dioxygène, nécessaire à la combustion.\n",
    "- Les produits de la combustion complète sont le dioxyde de carbone $CO_2$ et l'eau $H_2O$.\n",
    "\n",
    "La combustion complète nécessite un excès d'oxygène pour brûler tout le carburant et produire uniquement du $CO_2$ et de $H_2O$."
   ]
  },
  {
   "cell_type": "markdown",
   "id": "3544224d-c271-40df-8ea6-cc9d51dfc2e1",
   "metadata": {},
   "source": [
    "Pour calculer le **facteur d'émission de $CO_2$** à partir de la formule de combustion de l'essence sans plomb 95 (SP95), nous devons utiliser la chimie des réactions de combustion et quelques informations sur la composition chimique de l'essence.\n",
    "\n",
    "#### Étapes pour calculer le facteur d'émission à partir de la combustion de l'octane ($C_8H_{18}$) :\n",
    "\n",
    "1. **Formule de combustion de l'octane** :\n",
    "   L'essence est composée principalement d'octane ($C_8H_{18}$). Voici la réaction de combustion complète de l'octane :\n",
    "   \n",
    "   $$\n",
    "   2C_8H_{18} + 25O_2 \\longrightarrow 16CO_2 + 18H_2O\n",
    "   $$\n",
    "   \n",
    "   Cela signifie que pour 2 molécules d'octane brûlées, 16 molécules de $CO_2$ sont produites.\n",
    "\n",
    "2. **Masse molaire des substances** :\n",
    "   Nous devons connaître la masse molaire des réactifs et des produits pour établir une relation entre la quantité d'octane brûlé et le $CO_2$ produit.\n",
    "   - Masse molaire de $C_8H_{18}$ (octane) :\n",
    "     $$\n",
    "     \\text{Masse molaire de } C_8H_{18} = (8 \\times 12,01) + (18 \\times 1,008) = 114,23 \\text{ g/mol}\n",
    "     $$\n",
    "   - Masse molaire de $CO_2$ :\n",
    "     $$\n",
    "     \\text{Masse molaire de } CO_2 = (1 \\times 12,01) + (2 \\times 16,00) = 44,01 \\text{ g/mol}\n",
    "     $$\n",
    "\n",
    "3. **Rapport molaire entre l'octane et le $CO_2$** :\n",
    "   D'après la réaction chimique :\n",
    "   - 2 moles d'octane produisent 16 moles de $CO_2$.\n",
    "   - Donc, 1 mole d'octane ($C_8H_{18}$) produit 8 moles de $CO_2$.\n",
    "\n",
    "4. **Masse de $CO_2$ produite par la combustion d'une mole d'octane** :\n",
    "   - 1 mole d'octane a une masse de **114,23 g**.\n",
    "   - Cette combustion produit 8 moles de $CO_2$, soit :\n",
    "     $$\n",
    "     8 \\text{ moles} \\times 44,01 \\text{ g/mol} = 352,08 \\text{ g de } CO_2\n",
    "     $$\n",
    "\n",
    "5. **Quantité de $CO_2$ par gramme d'octane** :\n",
    "   La combustion d'1 gramme d'octane produit :\n",
    "   $$\n",
    "   \\frac{352,08 \\text{ g de } CO_2}{114,23 \\text{ g de } C_8H_{18}} \\approx 3,08 \\text{ g de } CO_2 \\text{ par gramme d'octane}\n",
    "   $$\n",
    "\n",
    "6. **Densité et conversion à partir du volume d'essence** :\n",
    "   L'essence (SP95) a une **densité** d'environ **0,74 kg/L** (varie légèrement selon les conditions).\n",
    "   - Cela signifie qu'un litre d'essence pèse environ 0,74 kg.\n",
    "   - Si l'essence est principalement constituée d'octane, alors 1 litre d'essence correspond à **740 g d'octane**.\n",
    "\n",
    "7. **Calcul du facteur d'émission de $CO_2$** :\n",
    "   La quantité de $CO_2$ émise par la combustion d'1 litre d'essence est donc :\n",
    "   $$\n",
    "   740 \\text{ g de } C_8H_{18} \\times 3,08 \\text{ g de } CO_2 \\text{ par gramme d'octane} = 2279,2 \\text{ g de } CO_2\n",
    "   $$\n",
    "   Ce qui donne environ **2,28 kg de $CO_2$** par litre d'essence brûlée.\n",
    "\n",
    "### Conclusion :\n",
    "Le **facteur d'émission** de $CO_2$ pour l'essence SP95 est donc d'environ **2,28 kg de $CO_2$ par litre**. Ce chiffre est très proche de la valeur standard souvent utilisée dans les calculs, qui est de **2,31 kg de $CO_2$ par litre** d'essence.\n",
    "\n",
    "Cette petite différence peut s'expliquer par la composition exacte du carburant (puisque l'essence n'est pas constituée uniquement d'octane) et d'autres additifs utilisés dans l'essence commerciale."
   ]
  },
  {
   "cell_type": "markdown",
   "id": "0cf0ffd7-8c31-4fbe-bccf-6df86188e130",
   "metadata": {},
   "source": [
    "### Et si Toto s'achetait un véhicule électrique ❔"
   ]
  },
  {
   "cell_type": "markdown",
   "id": "55ca2aa8-dfe5-477d-b896-4c69fe67f8d6",
   "metadata": {},
   "source": [
    "Pour calculer les émissions de $CO_2$ d’une Tesla (ou de tout véhicule électrique) en tenant compte de la production d’électricité en France, nous devons analyser l'impact environnemental lié à la production d’électricité nécessaire pour alimenter la voiture. Ce calcul prend en compte le **mix énergétique** utilisé pour produire l’électricité en France, qui est relativement bas en émissions de $CO_2$ grâce à la dominance du nucléaire et des énergies renouvelables.\n",
    "\n",
    "### Étapes pour calculer les émissions de $CO_2$ d'une Tesla en France :\n",
    "\n",
    "1. **Consommation électrique de la Tesla** :\n",
    "   - La consommation d’une Tesla Model 3 (par exemple) est d’environ **15 kWh/100 km** (cela peut varier selon les conditions, mais nous utilisons cette valeur moyenne).\n",
    "   \n",
    "2. **Facteur d'émission du mix énergétique français** :\n",
    "   - En France, le **mix énergétique** est principalement composé d’énergie nucléaire (environ 70%), suivi d’énergies renouvelables et d’un faible pourcentage d'énergies fossiles.\n",
    "   - Le **facteur d’émission moyen** pour la production d'électricité en France est d’environ **50 g de $CO_2$/kWh** en 2023, un des plus bas d’Europe grâce à la faible utilisation des combustibles fossiles.\n",
    "\n",
    "3. **Distance parcourue** :\n",
    "   - Tu as mentionné un trajet de **10 km**.\n",
    "\n",
    "<div class=\"alert alert-block alert-info\"> \n",
    "    <em>Question 3</em><br>\n",
    "    ✍️  Calculer la quantité de CO2 rejeté (en kg) par le véhicule électrique de Toto pour son trajet. <br>\n",
    "    Faites le bilan en comparant les deux moyens de déplacement ainsi qu'avec le vélo. \n",
    "</div>\n",
    "\n"
   ]
  },
  {
   "cell_type": "markdown",
   "id": "823b4e33-c98a-4c17-9128-08ed3e27afb4",
   "metadata": {},
   "source": [
    "---"
   ]
  },
  {
   "attachments": {},
   "cell_type": "markdown",
   "id": "275ecf47-7395-498e-a419-7cf593c0079f",
   "metadata": {},
   "source": [
    "### Au vue des résultats obtenus, Toto décide d'utiliser son vélo (ou son skateboard) pour se rendre à la Doua. \n",
    "\n",
    "Toto a toujours été sportif mais il veut éviter de trop forcer s'il ne prend pas de vélo à assistance électrique. "
   ]
  },
  {
   "cell_type": "markdown",
   "id": "5e8712bf-fb6f-4577-bf6b-b0bd168c0f4a",
   "metadata": {},
   "source": [
    "Toto veut éviter de prendre de trop grande monté (ou descente). \n",
    "Il veut savoir s'il prend le vélo (ou un skateboard quand il fait beau), s'il existe des pentes de plus de 5%.\n",
    "On vous fournit les valeurs de l'altitude tous les 200m depuis le point de départ jusqu'à l'arrivée dans la cellule suivante.\n",
    "\n",
    "<div class=\"alert alert-block alert-info\"> \n",
    "    <em>Question 4</em><br>\n",
    "    ✍️  Quelle est la démarche a adopté pour savoir s'il existe des pentes de plus de 5% sur le chemin de Toto ?\n",
    "<br> Réaliser la courbe des pentes en pourcentage. \n",
    "</div>"
   ]
  },
  {
   "cell_type": "code",
   "execution_count": 24,
   "id": "7cc86a09-926a-4369-80d5-4ae793b79c70",
   "metadata": {
    "nbgrader": {
     "grade": false,
     "grade_id": "cell-da1620d84a03b1b6",
     "locked": true,
     "schema_version": 3,
     "solution": false,
     "task": false
    }
   },
   "outputs": [],
   "source": [
    "altitudes = [164, 168, 168, 169, 165.0, 169.0, 169, 171, 170, 171, 167.0, 163.0, 161, 160, 163, 167.0, 163.0, 166, 165, 167, 171.0, 172, 170, 166.0, 166, 164, 160, 164.0, 162, 165, 162, 160, 164.0, 164, 168.0, 168, 164.0, 168.0, 167, 165.0, 164.0, 163.0, 165.0, 164.0, 163, 164.0, 166, 165, 164, 163.0, 163]"
   ]
  },
  {
   "cell_type": "code",
   "execution_count": null,
   "id": "6bcc80e6-a524-4ad2-8396-0a0cb980e232",
   "metadata": {},
   "outputs": [],
   "source": []
  }
 ],
 "metadata": {
  "kernelspec": {
   "display_name": "Python 3 (ipykernel)",
   "language": "python",
   "name": "python3"
  },
  "language_info": {
   "codemirror_mode": {
    "name": "ipython",
    "version": 3
   },
   "file_extension": ".py",
   "mimetype": "text/x-python",
   "name": "python",
   "nbconvert_exporter": "python",
   "pygments_lexer": "ipython3",
   "version": "3.9.13"
  }
 },
 "nbformat": 4,
 "nbformat_minor": 5
}
